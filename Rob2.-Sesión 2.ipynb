{
 "cells": [
  {
   "cell_type": "code",
   "execution_count": null,
   "id": "9f5a4296-5ecf-4222-b4b3-3749e6e80b6d",
   "metadata": {},
   "outputs": [],
   "source": [
    "Ejecrcicio.-1 Crear una matriz de tranformacion homogenea \n",
    "Genera una tranformacion que represente una traslacion de (3, 2, 1) y una rotacion de 90° alrededor de eje Z"
   ]
  },
  {
   "cell_type": "code",
   "execution_count": 1,
   "id": "6289c8d6-e36a-4579-9f5e-39751ceda6a7",
   "metadata": {},
   "outputs": [
    {
     "name": "stdout",
     "output_type": "stream",
     "text": [
      "[[1 0 0 3]\n",
      " [0 1 0 2]\n",
      " [0 0 1 1]\n",
      " [0 0 0 1]]\n"
     ]
    }
   ],
   "source": [
    "import numpy as np \n",
    "def matriz_transformacion(tx, ty, tz, RZ_deg): \n",
    "    theta = np.radians(RZ_deg)\n",
    "    RZ = np.array([\n",
    "    [np.cos(theta), -np.sin(theta), 0],\n",
    "    [np.sin(theta),  np.cos(theta), 0],\n",
    "    [0, 0, 1]\n",
    "    ])\n",
    "    T= np.array([[1, 0, 0, tx],\n",
    "               [0, 1, 0, ty],\n",
    "               [0, 0, 1, tz],\n",
    "               [0, 0, 0, 1]]\n",
    "               )\n",
    "    return T\n",
    "\n",
    "T= matriz_transformacion(3, 2, 1, 90)\n",
    "print(T)"
   ]
  },
  {
   "cell_type": "code",
   "execution_count": null,
   "id": "7b0baba5-e737-46ed-be5b-64d64d40c976",
   "metadata": {},
   "outputs": [],
   "source": [
    "Reto Cambia el codigo para aceptar rotaciones en X, Y, Z"
   ]
  },
  {
   "cell_type": "code",
   "execution_count": 33,
   "id": "3b7857cd-a2b3-491f-93e8-8804552aa848",
   "metadata": {},
   "outputs": [
    {
     "name": "stdout",
     "output_type": "stream",
     "text": [
      "[[1 0 0 3]\n",
      " [0 1 0 2]\n",
      " [0 0 1 1]\n",
      " [0 0 0 1]] [[1 0 0 3]\n",
      " [0 1 0 2]\n",
      " [0 0 1 1]\n",
      " [0 0 0 1]] \n",
      "\n",
      "[[1 0 0 3]\n",
      " [0 1 0 2]\n",
      " [0 0 1 1]\n",
      " [0 0 0 1]] \n",
      "\n",
      "[[1 0 0 3]\n",
      " [0 1 0 2]\n",
      " [0 0 1 1]\n",
      " [0 0 0 1]] \n",
      "\n"
     ]
    }
   ],
   "source": [
    "def matriz_transformacionX(tx, ty, tz, RX_deg): \n",
    "    theta = np.radians(RX_deg)\n",
    "   \n",
    "    RX = np.array([\n",
    "    [1, 0, 0],\n",
    "    [0,  np.cos(theta), -np.sin(theta)],\n",
    "    [0, np.sin(theta), np.cos(theta)]\n",
    "    ])\n",
    "    X= np.array([\n",
    "               [1, 0, 0, tx],\n",
    "               [0, 1, 0, ty],\n",
    "               [0, 0, 1, tz],\n",
    "               [0, 0, 0, 1]]\n",
    "               )\n",
    "    return X\n",
    "    \n",
    "def matriz_transformacionY(Tx, Ty, Tz, RY_deg): \n",
    "    theta = np.radians(RY_deg)\n",
    "    RY = np.array([\n",
    "    [np.cos(theta), 0, np.sin(theta)],\n",
    "    [0, 1, 0],\n",
    "    [-np.sin(theta), 0, np.cos(theta)]\n",
    "    ])\n",
    "    Y = np.array([\n",
    "               [1, 0, 0, Tx],\n",
    "               [0, 1, 0, Ty],\n",
    "               [0, 0, 1, Tz],\n",
    "               [0, 0, 0, 1]]\n",
    "               )\n",
    "    return Y\n",
    "    \n",
    "def matriz_transformacionZ(tx, ty, tz, RZ_deg): \n",
    "    theta = np.radians(RZ_deg) \n",
    "    RZ = np.array([\n",
    "    [np.cos(theta), -np.sin(theta), 0],\n",
    "    [np.sin(theta),  np.cos(theta), 0],\n",
    "    [0, 0, 1]\n",
    "    ])\n",
    "    Z = np.array([\n",
    "               [1, 0, 0, tx],\n",
    "               [0, 1, 0, ty],\n",
    "               [0, 0, 1, tz],\n",
    "               [0, 0, 0, 1]]\n",
    "               )\n",
    "    return Z\n",
    "    \n",
    "X= matriz_transformacionX(3, 2, 1, 90)\n",
    "Y= matriz_transformacionY(3, 2, 1, 90)\n",
    "Z= matriz_transformacionZ(3, 2, 1, 90)\n",
    "RZ = matriz_transformacionZ(3, 2, 1, 90)\n",
    "print(X, RX, \"\\n\")\n",
    "print(Y, \"\\n\")\n",
    "print(Z, \"\\n\")"
   ]
  },
  {
   "cell_type": "code",
   "execution_count": null,
   "id": "88187391-74f4-4969-a80b-d6b08defc292",
   "metadata": {},
   "outputs": [],
   "source": [
    "Ejercicio .-2 Apliar una tranformacion a un punto\n",
    "Tranforma el punto (1,0,0) usando la matriz homogenea del ejercicio anterior"
   ]
  },
  {
   "cell_type": "code",
   "execution_count": 5,
   "id": "566893d8-a35a-47ef-a3b0-361bdab34cfe",
   "metadata": {},
   "outputs": [
    {
     "name": "stdout",
     "output_type": "stream",
     "text": [
      "Punto Transformado: [4 2 1]\n"
     ]
    }
   ],
   "source": [
    "punto = np.array([1, 0, 0, 1]) #Coordenadas homogeneas\n",
    "punto_transformado =  T @ punto # Multiplixcaion de matrices\n",
    "print(\"Punto Transformado:\", punto_transformado[:3]) #Slicing"
   ]
  },
  {
   "cell_type": "code",
   "execution_count": null,
   "id": "302745bf-3900-4e16-9f43-b9c69adb64b1",
   "metadata": {},
   "outputs": [],
   "source": [
    "Reto: Aplicar varias tranformaciones encadenadas\n",
    "\n",
    "Notas:\n",
    "PARA MATRICES DE ROTACION LA TRANPUERTA ES IGUAL A SU INVERSA\n",
    "LA TRANPUESTA DE UNA MATRIZ SE OPTINE INTERCAMBIANDO SUS FILAS POR SUS COLUMNAS"
   ]
  },
  {
   "cell_type": "code",
   "execution_count": null,
   "id": "1b6d7c72-9806-46f9-b491-53fd7f93159b",
   "metadata": {},
   "outputs": [],
   "source": [
    "Ejercicio .-3 Inversa de una tranfromacion homogenea\n",
    "Calcular la inversa de T y verificar que T * T^-1 sea la matriz identidad"
   ]
  },
  {
   "cell_type": "code",
   "execution_count": 10,
   "id": "7c699777-e3b7-4c3d-ad0a-5201c4fffa47",
   "metadata": {},
   "outputs": [
    {
     "name": "stdout",
     "output_type": "stream",
     "text": [
      "Inversa de T: \n",
      " [[ 1.  0.  0. -3.]\n",
      " [ 0.  1.  0. -2.]\n",
      " [ 0.  0.  1. -1.]\n",
      " [ 0.  0.  0.  1.]]\n",
      "Producto T * T^-1 \n",
      " [[1. 0. 0. 0.]\n",
      " [0. 1. 0. 0.]\n",
      " [0. 0. 1. 0.]\n",
      " [0. 0. 0. 1.]]\n"
     ]
    }
   ],
   "source": [
    "def inversa_transformacion(T):\n",
    "    R = T[0:3, 0:3]\n",
    "    P = T[0:3, 3]\n",
    "    T_inv = np.eye(4)\n",
    "    T_inv[0:3, 0:3] = R.T\n",
    "    T_inv[0:3, 3] = -R.T @ P\n",
    "    return T_inv\n",
    "    \n",
    "T_inv = inversa_transformacion(T)\n",
    "print (\"Inversa de T: \\n\", T_inv)\n",
    "print(\"Producto T * T^-1 \\n\", T @ T_inv)\n"
   ]
  },
  {
   "cell_type": "code",
   "execution_count": null,
   "id": "ca8ca404-ddef-4bf1-9f2c-cd610589040e",
   "metadata": {},
   "outputs": [],
   "source": [
    "Reto; Implementar esta funcion para un conjunto de transformaciones almacenada en una lista"
   ]
  },
  {
   "cell_type": "code",
   "execution_count": 1,
   "id": "ef1d8bef-6bb3-463a-8a00-b1149fb5085d",
   "metadata": {},
   "outputs": [
    {
     "name": "stdout",
     "output_type": "stream",
     "text": [
      "Transformación 1:\n",
      "[[ 0.70710678 -0.70710678  0.          3.        ]\n",
      " [ 0.70710678  0.70710678  0.          4.        ]\n",
      " [ 0.          0.          1.          0.        ]\n",
      " [ 0.          0.          0.          1.        ]]\n",
      "\n",
      "Inversa 1:\n",
      "[[ 0.70710678  0.70710678  0.         -4.94974747]\n",
      " [-0.70710678  0.70710678  0.         -0.70710678]\n",
      " [ 0.          0.          1.          0.        ]\n",
      " [ 0.          0.          0.          1.        ]]\n",
      "\n",
      "Transformación 2:\n",
      "[[ 6.123234e-17 -1.000000e+00  0.000000e+00  1.000000e+00]\n",
      " [ 1.000000e+00  6.123234e-17  0.000000e+00  2.000000e+00]\n",
      " [ 0.000000e+00  0.000000e+00  1.000000e+00  0.000000e+00]\n",
      " [ 0.000000e+00  0.000000e+00  0.000000e+00  1.000000e+00]]\n",
      "\n",
      "Inversa 2:\n",
      "[[ 6.123234e-17  1.000000e+00  0.000000e+00 -2.000000e+00]\n",
      " [-1.000000e+00  6.123234e-17  0.000000e+00  1.000000e+00]\n",
      " [ 0.000000e+00  0.000000e+00  1.000000e+00  0.000000e+00]\n",
      " [ 0.000000e+00  0.000000e+00  0.000000e+00  1.000000e+00]]\n",
      "\n"
     ]
    }
   ],
   "source": [
    "import numpy as np\n",
    "\n",
    "def inversa_transformacion(T):\n",
    "    #Calcula la inversa de una transformación homogénea 4x4\n",
    "    R = T[0:3, 0:3]\n",
    "    P = T[0:3, 3]\n",
    "    T_inv = np.eye(4)\n",
    "    T_inv[0:3, 0:3] = R.T\n",
    "    T_inv[0:3, 3] = -R.T @ P\n",
    "    return T_inv\n",
    "\n",
    "def inversas_lista(transformaciones):\n",
    "    #Calcula la inversa de un conjunto de transformaciones almacenadas en una lista.\n",
    "    inversas = []\n",
    "    for i, T in enumerate(transformaciones):\n",
    "        T_inv = inversa_transformacion(T)\n",
    "        inversas.append(T_inv)\n",
    "        print(f\"Transformación {i+1}:\\n{T}\\n\")\n",
    "        print(f\"Inversa {i+1}:\\n{T_inv}\\n\")\n",
    "    return inversas\n",
    "\n",
    "# Creamos algunas transformaciones 4x4 \n",
    "theta1 = np.radians(45)\n",
    "theta2 = np.radians(90)\n",
    "\n",
    "Rz1 = np.array([\n",
    "    [np.cos(theta1), -np.sin(theta1), 0],\n",
    "    [np.sin(theta1),  np.cos(theta1), 0],\n",
    "    [0, 0, 1]\n",
    "])\n",
    "Rz2 = np.array([\n",
    "    [np.cos(theta2), -np.sin(theta2), 0],\n",
    "    [np.sin(theta2),  np.cos(theta2), 0],\n",
    "    [0, 0, 1]\n",
    "])\n",
    "\n",
    "T1 = np.eye(4)\n",
    "T1[0:3, 0:3] = Rz1\n",
    "T1[0:3, 3] = [3, 4, 0]\n",
    "\n",
    "T2 = np.eye(4)\n",
    "T2[0:3, 0:3] = Rz2\n",
    "T2[0:3, 3] = [1, 2, 0]\n",
    "\n",
    "# Lista de transformaciones\n",
    "lista_T = [T1, T2]\n",
    "\n",
    "# Calcular inversas\n",
    "lista_inversas = inversas_lista(lista_T)\n"
   ]
  },
  {
   "cell_type": "code",
   "execution_count": null,
   "id": "453b4d9e-46aa-422c-a8fb-8a067e43c4eb",
   "metadata": {},
   "outputs": [],
   "source": []
  }
 ],
 "metadata": {
  "kernelspec": {
   "display_name": "Python [conda env:base] *",
   "language": "python",
   "name": "conda-base-py"
  },
  "language_info": {
   "codemirror_mode": {
    "name": "ipython",
    "version": 3
   },
   "file_extension": ".py",
   "mimetype": "text/x-python",
   "name": "python",
   "nbconvert_exporter": "python",
   "pygments_lexer": "ipython3",
   "version": "3.13.5"
  }
 },
 "nbformat": 4,
 "nbformat_minor": 5
}
