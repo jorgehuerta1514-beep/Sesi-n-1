{
 "cells": [
  {
   "cell_type": "code",
   "execution_count": null,
   "id": "d0cac867-b45c-4123-9972-b83d1673ddff",
   "metadata": {},
   "outputs": [],
   "source": [
    "Ejecrcicio.-1 Cinematica directa de un robot planar 2 Grados de Libertad\n",
    "Caclular la porsicion del efector final para diferentes valores de Theta 1 y Theta 2"
   ]
  },
  {
   "cell_type": "code",
   "execution_count": 1,
   "id": "de6ad638-182c-478e-8c93-15802bcdbbe2",
   "metadata": {},
   "outputs": [
    {
     "name": "stdout",
     "output_type": "stream",
     "text": [
      "(np.float64(6.66519468110833), np.float64(44.97370267176827))\n"
     ]
    }
   ],
   "source": [
    "import numpy as np\n",
    "\n",
    "def cinematica_directa_2DOF(Theta1, Theta2, L1, L2):\n",
    "    X = L1*np.cos(np.deg2rad(Theta1) + L2*np.cos(np.deg2rad(Theta1 + Theta2))) \n",
    "    Y = L1*np.sin(np.deg2rad(Theta1) + L2*np.sin(np.deg2rad(Theta1 + Theta2))) \n",
    "    return X, Y\n",
    "\n",
    "print(cinematica_directa_2DOF(2, 1, 45, 30))"
   ]
  },
  {
   "cell_type": "code",
   "execution_count": null,
   "id": "ca107d44-f3e1-43df-87c8-63104f85166a",
   "metadata": {},
   "outputs": [],
   "source": [
    "Reto: Graficar la posicion del efector final para Theta 1 entre 0° y 180°"
   ]
  },
  {
   "cell_type": "code",
   "execution_count": 2,
   "id": "8494f8c5-76df-4aa9-b9b6-1fe2b5734e90",
   "metadata": {},
   "outputs": [
    {
     "data": {
      "text/plain": [
       "<matplotlib.legend.Legend at 0x12547025400>"
      ]
     },
     "execution_count": 2,
     "metadata": {},
     "output_type": "execute_result"
    },
    {
     "data": {
      "image/png": "[encoded data removed]",
      "text/plain": [
       "<Figure size 600x600 with 1 Axes>"
      ]
     },
     "metadata": {},
     "output_type": "display_data"
    }
   ],
   "source": [
    "import numpy as np\n",
    "import matplotlib.pyplot as plt\n",
    "\n",
    "def cinematica_directa_2DOF(Theta1, Theta2, L1, L2):\n",
    "    X = L1 * np.cos(np.deg2rad(Theta1)) + L2 * np.cos(np.deg2rad(Theta1 + Theta2))\n",
    "    Y = L1 * np.sin(np.deg2rad(Theta1)) + L2 * np.sin(np.deg2rad(Theta1 + Theta2))\n",
    "    return X, Y\n",
    "# Parámetros\n",
    "L1 = 45\n",
    "L2 = 30\n",
    "Theta2 = 0  # fijo\n",
    "\n",
    "# Rango de Theta1\n",
    "Theta1_vals = np.linspace(0, 180, 181)\n",
    "\n",
    "# Calcular posiciones\n",
    "X_vals = []\n",
    "Y_vals = []\n",
    "\n",
    "for t1 in Theta1_vals:\n",
    "    X, Y = cinematica_directa_2DOF(t1, Theta2, L1, L2)\n",
    "    X_vals.append(X)\n",
    "    Y_vals.append(Y)\n",
    "\n",
    "# Graficar trayectoria\n",
    "plt.figure(figsize=(6,6))\n",
    "plt.plot(X_vals, Y_vals, 'b-', label='Trayectoria del efector final')\n",
    "plt.xlabel('X')\n",
    "plt.ylabel('Y')\n",
    "plt.grid(True)\n",
    "plt.axis('equal')\n",
    "plt.legend()"
   ]
  },
  {
   "cell_type": "code",
   "execution_count": null,
   "id": "41e2dae8-0e6d-43c7-965c-8323eb474726",
   "metadata": {},
   "outputs": [],
   "source": [
    "Ejercicio.-2 Construccion de matrices de DH\n",
    "Genera la matriz de tranformacion de Ai a partir de los prametros de DH"
   ]
  },
  {
   "cell_type": "code",
   "execution_count": 3,
   "id": "ace7d705-a6fd-47a3-9880-e1e8db0e16c7",
   "metadata": {},
   "outputs": [
    {
     "name": "stdout",
     "output_type": "stream",
     "text": [
      "Matriz de Tranfpormacion Homogenea T: \n",
      "[[ 0.25881905 -0.96592583  0.          1.67303261]\n",
      " [ 0.96592583  0.25881905  0.          2.38013939]\n",
      " [ 0.          0.          1.          1.        ]\n",
      " [ 0.          0.          0.          1.        ]]\n"
     ]
    }
   ],
   "source": [
    "def matriz_DH(Theta, D, A, Alpha):\n",
    "    th, al  = np.deg2rad(Theta), np.deg2rad(Alpha)\n",
    "    return np.array([[np.cos(th), -np.sin(th)*np.cos(al), np.sin(th)*np.sin(al), A*np.cos(th)],\n",
    "                    [np.sin(th), np.cos(th)*np.cos(al), -np.cos(th)*np.sin(al), A*np.sin(th)],\n",
    "                    [0, np.sin(al), np.cos(al), D],\n",
    "                    [0, 0, 0, 1]])\n",
    "\n",
    "A1 = matriz_DH(45, 0, 2, 0)\n",
    "A2 = matriz_DH(30, 1, 1, 0)\n",
    "T = A1 @ A2\n",
    "print(\"Matriz de Tranfpormacion Homogenea T: \")\n",
    "print (T)"
   ]
  },
  {
   "cell_type": "code",
   "execution_count": null,
   "id": "f242f3ba-6f49-40b1-8d0d-97dd5f584bc4",
   "metadata": {},
   "outputs": [],
   "source": [
    "Reto: implementar para unnrobot de 3 Grados de Libertad"
   ]
  },
  {
   "cell_type": "markdown",
   "id": "c5e9996b-9e1d-4d75-a963-47593a8ca4b5",
   "metadata": {},
   "source": [
    "#Definir los parametros DH para un robot de 3DOF(ejmplo generico)\n",
    "#Ahusta estos valores segun la configuracion de tu robot\n",
    "\n",
    "Theta1 = 0 #Angulo de la articulacion 1\n",
    "d1 = 1 #Desplazaminto de Z para la articulacion 1\n",
    "a1 = 0 #Desplazaminto de X para la articulacion 1\n",
    "Alpha1 = 90 #Rotacion en X para la articulacion 1\n",
    "\n",
    "Theta2 = 0 #Angulo de la articulacion 2\n",
    "d2 = 0 #Desplazaminto de Z para la articulacion 2\n",
    "a2 = 1 #Desplazaminto de X para la articulacion 2\n",
    "Alpha2 = 0 #Rotacion en X para la articulacion 2\n",
    "\n",
    "Theta3 = 0 #Angulo de la articulacion 3\n",
    "d3 = 0 #Desplazaminto de Z para la articulacion 3\n",
    "a3 = 1 #Desplazaminto de X para la articulacion 3\n",
    "Alpha3 = 0 #Rotacion en X para la articulacion 3\n",
    "\n",
    "#Cañcular de tranformacion de matriz homogenea para cada articulacion\n",
    "A1 = matriz_DH(Tetha1, d1 a1, Alpha1)\n",
    "A2 = matriz_DH(Tetha2, d2 a2, Alpha2)\n",
    "A3 = matriz_DH(Tetha3, d3 a3, Alpha3)\n",
    "#Calcular la matrz de tranfprmacion Total de la base al efector final\n",
    "T0_3 = A1 @ A2 @ A3\n",
    "print(\"Matriz de TH de T0_3 (Base al efector Final):\")\n",
    "print(T0_3)\n",
    "\n",
    "#La posicioon del efector final esta en la ultima columna de la matriz T0_3\n",
    "posicion_egfector_final = T0_3 [:3, 3]\n",
    "print(\"\\n Posicion del efector Final(X, Y, Z)\")"
   ]
  },
  {
   "cell_type": "code",
   "execution_count": 7,
   "id": "fa434ca6-eed3-446c-99b6-f2f959f81d69",
   "metadata": {},
   "outputs": [
    {
     "name": "stdout",
     "output_type": "stream",
     "text": [
      "Matriz de TH de T0_3 (Base al efector Final):\n",
      "[[ 1.000000e+00  0.000000e+00  0.000000e+00  2.000000e+00]\n",
      " [ 0.000000e+00  6.123234e-17 -1.000000e+00  0.000000e+00]\n",
      " [ 0.000000e+00  1.000000e+00  6.123234e-17  1.000000e+00]\n",
      " [ 0.000000e+00  0.000000e+00  0.000000e+00  1.000000e+00]]\n",
      "\n",
      " Posicion del efector Final(X, Y, Z)\n",
      "[2. 0. 1.]\n"
     ]
    }
   ],
   "source": [
    "#Definir los parametros DH para un robot de 3DOF(ejmplo generico)\n",
    "#Ahusta estos valores segun la configuracion de tu robot\n",
    "\n",
    "Theta1 = 0 #Angulo de la articulacion 1\n",
    "d1 = 1 #Desplazaminto de Z para la articulacion 1\n",
    "a1 = 0 #Desplazaminto de X para la articulacion 1\n",
    "Alpha1 = 90 #Rotacion en X para la articulacion 1\n",
    "\n",
    "Theta2 = 0 #Angulo de la articulacion 2\n",
    "d2 = 0 #Desplazaminto de Z para la articulacion 2\n",
    "a2 = 1 #Desplazaminto de X para la articulacion 2\n",
    "Alpha2 = 0 #Rotacion en X para la articulacion 2\n",
    "\n",
    "Theta3 = 0 #Angulo de la articulacion 3\n",
    "d3 = 0 #Desplazaminto de Z para la articulacion 3\n",
    "a3 = 1 #Desplazaminto de X para la articulacion 3\n",
    "Alpha3 = 0 #Rotacion en X para la articulacion 3\n",
    "\n",
    "#Cañcular de tranformacion de matriz homogenea para cada articulacion\n",
    "A1 = matriz_DH(Theta1, d1, a1, Alpha1)\n",
    "A2 = matriz_DH(Theta2, d2, a2, Alpha2)\n",
    "A3 = matriz_DH(Theta3, d3, a3, Alpha3)\n",
    "#Calcular la matrz de tranfprmacion Total de la base al efector final\n",
    "T0_3 = A1 @ A2 @ A3\n",
    "print(\"Matriz de TH de T0_3 (Base al efector Final):\")\n",
    "print(T0_3)\n",
    "\n",
    "#La posicioon del efector final esta en la ultima columna de la matriz T0_3\n",
    "posicion_efector_final = T0_3 [:3, 3]\n",
    "print(\"\\n Posicion del efector Final(X, Y, Z)\")\n",
    "print(posicion_efector_final)"
   ]
  },
  {
   "cell_type": "code",
   "execution_count": null,
   "id": "0992ed31-45aa-44b4-86b2-e4c8bc95ccfd",
   "metadata": {},
   "outputs": [],
   "source": []
  }
 ],
 "metadata": {
  "kernelspec": {
   "display_name": "Python [conda env:base] *",
   "language": "python",
   "name": "conda-base-py"
  },
  "language_info": {
   "codemirror_mode": {
    "name": "ipython",
    "version": 3
   },
   "file_extension": ".py",
   "mimetype": "text/x-python",
   "name": "python",
   "nbconvert_exporter": "python",
   "pygments_lexer": "ipython3",
   "version": "3.13.5"
  }
 },
 "nbformat": 4,
 "nbformat_minor": 5
}
