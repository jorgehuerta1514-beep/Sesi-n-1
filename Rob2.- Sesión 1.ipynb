{
 "cells": [
  {
   "cell_type": "code",
   "execution_count": null,
   "id": "71c0077a-47b1-46a1-84dc-b495319d849b",
   "metadata": {},
   "outputs": [],
   "source": [
    "Sistema de Coordenadas\n",
    "Ej1:Convercion de coordenadas 2D a 3D\n",
    "Dado un punto de coordenada 2D (x,y), extiende a 3D considerar que z=0"
   ]
  },
  {
   "cell_type": "code",
   "execution_count": 15,
   "id": "4989d201-3927-4739-b76a-e4e4efb715e4",
   "metadata": {},
   "outputs": [
    {
     "name": "stdout",
     "output_type": "stream",
     "text": [
      "Punto en 3D: (5, 4, 0)\n"
     ]
    }
   ],
   "source": [
    "def convertir_a_3D(x,y):\n",
    "    return (x, y, 0)\n",
    "punto_3D = convertir_a_3D(5, 4)\n",
    "print(\"Punto en 3D:\", punto_3D)"
   ]
  },
  {
   "cell_type": "code",
   "execution_count": null,
   "id": "24223cd6-ad2d-4337-9c4f-4e0090cad730",
   "metadata": {},
   "outputs": [],
   "source": [
    "Reto: Crear una nueva funcion para aceptar una lista de puntos"
   ]
  },
  {
   "cell_type": "code",
   "execution_count": 3,
   "id": "6a9d1ade-01fe-47be-9613-d4808f9409d6",
   "metadata": {},
   "outputs": [
    {
     "name": "stdout",
     "output_type": "stream",
     "text": [
      "Lista de puntos: [[2, 0, 0], [0, 2, 0], [0, 0, 2], [1, 1, 1]]\n"
     ]
    }
   ],
   "source": [
    "def Lista_puntos(puntos):\n",
    "    \n",
    "    lista = []\n",
    "    for p in puntos:\n",
    "        lista.append([p[0], p[1], p[2]])\n",
    "    return lista\n",
    "\n",
    "puntos = Lista_puntos([\n",
    "    (2, 0, 0),\n",
    "    (0, 2, 0),\n",
    "    (0, 0, 2),\n",
    "    (1, 1, 1)\n",
    "])\n",
    "\n",
    "print(\"Lista de puntos:\", puntos)"
   ]
  },
  {
   "cell_type": "code",
   "execution_count": null,
   "id": "5b54de2a-5174-49a0-8cf0-e64a9612b923",
   "metadata": {},
   "outputs": [],
   "source": [
    "Ej2: Representar la orontacion con la matriz de rotacion\n",
    "Gernerar una matriz de rotacion de 90° al rededor del eje z y aplicalo a un punto\n",
    "(2,0,0)"
   ]
  },
  {
   "cell_type": "code",
   "execution_count": 16,
   "id": "e814e86c-df9e-4c56-bacb-40f4140a7978",
   "metadata": {},
   "outputs": [
    {
     "name": "stdout",
     "output_type": "stream",
     "text": [
      "[1.2246468e-16 2.0000000e+00 0.0000000e+00]\n"
     ]
    }
   ],
   "source": [
    "import numpy as np\n",
    "\n",
    "def rotacion_z (punto, grados):\n",
    "    theta = np.radians(grados) #Covertir el angulo a radianes\n",
    "\n",
    "    #Crear la matriz de rotacion\n",
    "    rotacion_matriz = np.array([\n",
    "        [np.cos(theta), -np.sin(theta), 0],\n",
    "        [np.sin(theta),np.cos(theta), 0],\n",
    "        [0,0,1]\n",
    "    ])\n",
    "   #Calcular el producto escalar\n",
    "    return np.dot(rotacion_matriz, punto)\n",
    "    \n",
    "p = np.array([2, 0, 0])\n",
    "nuevo_punto = rotacion_z(p, 90)\n",
    "print(nuevo_punto)"
   ]
  },
  {
   "cell_type": "code",
   "execution_count": null,
   "id": "aa1b5776-bcd4-4322-9a88-f3c4e2387448",
   "metadata": {},
   "outputs": [],
   "source": [
    "Reto: Propon un codigo para rotar alrededor de X y Y "
   ]
  },
  {
   "cell_type": "code",
   "execution_count": 18,
   "id": "a5b3ac27-b315-4641-88d6-c89b006038d5",
   "metadata": {},
   "outputs": [
    {
     "name": "stdout",
     "output_type": "stream",
     "text": [
      "Rotacion de X [2. 0. 0.]\n",
      "Rotacion de y [ 1.2246468e-16  0.0000000e+00 -2.0000000e+00]\n"
     ]
    }
   ],
   "source": [
    "import numpy as np\n",
    "def rotacion_X(punto, grados):\n",
    "    theta = np.radians(grados)\n",
    "    rotacion_matriz = np.array([\n",
    "    [1, 0, 0],\n",
    "    [0, np.cos(theta), -np.sin(theta)],\n",
    "    [0, np.sin(theta), np.cos(theta)]\n",
    "    ])\n",
    "    #Calcular el producto escalar\n",
    "    return np.dot(rotacion_matriz, punto)\n",
    "\n",
    "def rotacion_Y(punto, grados):\n",
    "    theta = np.radians(grados)\n",
    "    rotacion_matriz = ([\n",
    "    [np.cos(theta), 0, np.sin(theta)],\n",
    "    [0, 1, 0],\n",
    "    [-np.sin(theta), 0, np.cos(theta)]\n",
    "    ])\n",
    "    #Calcular el producto escalar\n",
    "    return np.dot(rotacion_matriz, punto)\n",
    "        \n",
    "p = np.array([2, 0, 0])\n",
    "nuevo_puntoX = rotacion_X(p, 90)\n",
    "nuevo_puntoY = rotacion_Y(p, 90)\n",
    "print(\"Rotacion de X\", nuevo_puntoX)\n",
    "print(\"Rotacion de Y\", nuevo_puntoY)"
   ]
  },
  {
   "cell_type": "code",
   "execution_count": null,
   "id": "8320eefd-1bd2-46f3-ad4d-6960c78c7a33",
   "metadata": {},
   "outputs": [],
   "source": [
    "Ejercicio 3 - Posicion y orietacion de un sistema movil\n",
    "Simular el desplazaminto de un mantenimineto de un robot movil desde el origen hasta la posicion (3, 4, 0)\n",
    "y luego aplicar una rotacion de 45° al rededor de Z"
   ]
  },
  {
   "cell_type": "code",
   "execution_count": 7,
   "id": "89ca081b-c133-4262-b5de-28e2f853b38d",
   "metadata": {},
   "outputs": [
    {
     "name": "stdout",
     "output_type": "stream",
     "text": [
      "Vector de posicion [3 4 0]\n",
      "Matriz de orintacion:\n",
      " [[ 0.70710678 -0.70710678  0.        ]\n",
      " [ 0.70710678  0.70710678  0.        ]\n",
      " [ 0.          0.          1.        ]]\n",
      "Nueva orintacion del sistema movil: [-0.70710678  4.94974747  0.        ]\n"
     ]
    }
   ],
   "source": [
    "import numpy as np\n",
    "#vector de posicion \n",
    "posicion = np.array([3, 4, 0])\n",
    "print(\"Vector de posicion\", posicion)\n",
    "\n",
    "#Rotacion 45º en Z\n",
    "theta = np.radians (45)\n",
    "\n",
    "Rz = np.array([\n",
    "        [np.cos(theta), -np.sin(theta), 0],\n",
    "        [np.sin(theta), np.cos(theta), 0],\n",
    "        [0,0,1]\n",
    "])\n",
    "\n",
    "print(\"Matriz de orintacion:\\n\", Rz)\n",
    " #Nueva orientacion del sistema movil\n",
    "nueva_orintacion = np.dot(Rz, posicion)\n",
    "print(\"Nueva orintacion del sistema movil:\", nueva_orintacion)\n"
   ]
  },
  {
   "cell_type": "code",
   "execution_count": null,
   "id": "b9ab2dec-9554-4dca-9a15-722b7dbf9a08",
   "metadata": {},
   "outputs": [],
   "source": [
    "Representar la nueva ubicacion y orintacion graficamente usando (MATPLOTIB)"
   ]
  },
  {
   "cell_type": "code",
   "execution_count": 3,
   "id": "380a6dd9-1387-4b24-9d0b-1acd598c5ca0",
   "metadata": {},
   "outputs": [
    {
     "name": "stdout",
     "output_type": "stream",
     "text": [
      "Vector de posición: [3 4 0]\n",
      "Matriz de orientación:\n",
      " [[ 0.70710678 -0.70710678  0.        ]\n",
      " [ 0.70710678  0.70710678  0.        ]\n",
      " [ 0.          0.          1.        ]]\n",
      "Nueva orientación del sistema móvil: [-0.70710678  4.94974747  0.        ]\n"
     ]
    },
    {
     "data": {
      "image/png": "[encoded data removed]",
      "text/plain": [
       "<Figure size 600x600 with 1 Axes>"
      ]
     },
     "metadata": {},
     "output_type": "display_data"
    }
   ],
   "source": [
    "import numpy as np\n",
    "import matplotlib.pyplot as plt\n",
    "\n",
    "# Vector de posición original\n",
    "posicion = np.array([3, 4, 0])\n",
    "print(\"Vector de posición:\", posicion)\n",
    "\n",
    "# Rotación 45° en Z\n",
    "theta = np.radians(45)\n",
    "\n",
    "Rz = np.array([\n",
    "    [np.cos(theta), -np.sin(theta), 0],\n",
    "    [np.sin(theta),  np.cos(theta), 0],\n",
    "    [0, 0, 1]\n",
    "])\n",
    "\n",
    "print(\"Matriz de orientación:\\n\", Rz)\n",
    "\n",
    "nueva_orientacion = np.dot(Rz, posicion)\n",
    "print(\"Nueva orientación del sistema móvil:\", nueva_orientacion)\n",
    "\n",
    "#Representación gráfica en 2D\n",
    "plt.figure(figsize=(6,6))\n",
    "\n",
    "#Vector original Azul\n",
    "plt.quiver(0, 0, posicion[0], posicion[1], angles='xy', scale_units='xy', scale=1, color='b', label='Vector original')\n",
    "\n",
    "# Vector rotado Rojo\n",
    "plt.quiver(0, 0, nueva_orientacion[0], nueva_orientacion[1], angles='xy', scale_units='xy', scale=1, color='r', label='Vector rotado 45°')\n",
    "\n",
    "# Configuración del gráfico\n",
    "plt.xlim(-6, 6)\n",
    "plt.ylim(-6, 6)\n",
    "plt.axhline(0, color='k', linewidth=0.8)\n",
    "plt.axvline(0, color='k', linewidth=0.8)\n",
    "plt.gca().set_aspect('equal', adjustable='box')\n",
    "plt.grid(True)\n",
    "plt.legend()\n",
    "plt.show()\n"
   ]
  },
  {
   "cell_type": "code",
   "execution_count": null,
   "id": "4843a03b-473e-4e77-beb3-639afaf14819",
   "metadata": {},
   "outputs": [],
   "source": []
  }
 ],
 "metadata": {
  "kernelspec": {
   "display_name": "Python [conda env:base] *",
   "language": "python",
   "name": "conda-base-py"
  },
  "language_info": {
   "codemirror_mode": {
    "name": "ipython",
    "version": 3
   },
   "file_extension": ".py",
   "mimetype": "text/x-python",
   "name": "python",
   "nbconvert_exporter": "python",
   "pygments_lexer": "ipython3",
   "version": "3.13.5"
  }
 },
 "nbformat": 4,
 "nbformat_minor": 5
}
