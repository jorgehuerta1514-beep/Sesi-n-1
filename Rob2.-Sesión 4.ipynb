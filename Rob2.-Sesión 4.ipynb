{
 "cells": [
  {
   "cell_type": "code",
   "execution_count": null,
   "id": "073fe49e-2f8b-40fd-b485-0fe60de182a0",
   "metadata": {},
   "outputs": [],
   "source": [
    "Ejercicio 1.- Cinematica Inversa de un Robot 2Grados de libertad\n",
    "Daado un punto X, Y calcular Theta1 y Theta2"
   ]
  },
  {
   "cell_type": "code",
   "execution_count": 10,
   "id": "759d1361-9d75-407d-94c8-c3e430d07a76",
   "metadata": {},
   "outputs": [
    {
     "name": "stdout",
     "output_type": "stream",
     "text": [
      "(np.float64(44.94792709686353), np.float64(30.30801099542429))\n"
     ]
    }
   ],
   "source": [
    "import numpy as np\n",
    "def cinematica_inversa2DOF(X, Y, L1, L2):\n",
    "    #Calculo de Cos de Theta2\n",
    "    cos_theta2 = (X**2 + Y**2 - L1**2 - L2**2) / (2 * L1 * L2)\n",
    "\n",
    "    if abs(cos_theta2) > 1:\n",
    "        return None #Punto fuera de alcance\n",
    "    theta2 = np.arccos(cos_theta2)\n",
    "    k1 = L1 + L2 * np.cos(theta2)\n",
    "    k2 = L2 * np.sin(theta2)\n",
    "\n",
    "    theta1 = np.arctan2(Y, X) - np.arctan2(k2, k1)\n",
    "    return np.rad2deg(theta1), np.rad2deg(theta2)\n",
    "\n",
    "print (cinematica_inversa2DOF(1.67 , 2.38, 2, 1))\n",
    "#print(cinematica_directa_2DOF(2, 1, 45, 30))\n",
    "#(1.6730, 2.3801)"
   ]
  },
  {
   "cell_type": "code",
   "execution_count": null,
   "id": "54c20a9d-5638-4381-9abf-57efff314d98",
   "metadata": {},
   "outputs": [],
   "source": [
    "Ejecicio 2.- Verificar con sinematica directa \n",
    "Verificar que los angulos abtenidos realmente te colocan el efectro en X, Y y Z"
   ]
  },
  {
   "cell_type": "code",
   "execution_count": 14,
   "id": "6ccde44f-e133-4830-9e8b-724dc5cfb631",
   "metadata": {},
   "outputs": [
    {
     "name": "stdout",
     "output_type": "stream",
     "text": [
      "Solcuncion Inversa: (np.float64(0.0), np.float64(90.0))\n",
      "Verificacion FD; (np.float64(-0.0), np.float64(-0.0))\n"
     ]
    }
   ],
   "source": [
    "def cinematica_directa_2DOF(Theta1, Theta2, L1, L2):\n",
    "    X = L1*np.cos(np.deg2rad(Theta1) + L2*np.cos(np.deg2rad(Theta1 + Theta2))) \n",
    "    Y = L1*np.sin(np.deg2rad(Theta1) + L2*np.sin(np.deg2rad(Theta1 + Theta2))) \n",
    "    return X, Y\n",
    "\n",
    "Sol= cinematica_inversa2DOF( 2, 1, 2, 1)\n",
    "if Sol:\n",
    "    X_calc, Y_calc = cinematica_directa_2DOF(2, 1, * Sol)\n",
    "    print (\"Solcuncion Inversa:\", Sol)\n",
    "    print (\"Verificacion FD;\", (X_calc, Y_calc))\n",
    "else:\n",
    "    print(\"Punto Fuera de Alcance\")"
   ]
  }
 ],
 "metadata": {
  "kernelspec": {
   "display_name": "Python [conda env:base] *",
   "language": "python",
   "name": "conda-base-py"
  },
  "language_info": {
   "codemirror_mode": {
    "name": "ipython",
    "version": 3
   },
   "file_extension": ".py",
   "mimetype": "text/x-python",
   "name": "python",
   "nbconvert_exporter": "python",
   "pygments_lexer": "ipython3",
   "version": "3.13.5"
  }
 },
 "nbformat": 4,
 "nbformat_minor": 5
}
