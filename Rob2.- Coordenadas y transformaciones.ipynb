{
 "cells": [
  {
   "cell_type": "code",
   "execution_count": 1,
   "id": "1a4bce89-2040-439e-bcce-42290489851f",
   "metadata": {},
   "outputs": [],
   "source": [
    "import numpy as np\n",
    "from matplotlib import pyplot as plt"
   ]
  },
  {
   "cell_type": "code",
   "execution_count": 7,
   "id": "6e8b85e2-f096-4db2-8694-0d830ddc1f0a",
   "metadata": {},
   "outputs": [
    {
     "name": "stdout",
     "output_type": "stream",
     "text": [
      "[[  0.8660254   -0.5        -50.        ]\n",
      " [  0.5          0.8660254   86.60254038]\n",
      " [  0.           0.           1.        ]]\n"
     ]
    }
   ],
   "source": [
    "#construr la matriz de T desde la base J1, Tb1\n",
    "q= 30*np.pi/180\n",
    "#Matriz Estabdar de rotacion 30°\n",
    "R = np.array([[np.cos(q), -np.sin(q)],\n",
    "             [np.sin(q), np.cos(q)]])\n",
    "#Vector de traslacion\n",
    "t = np.array([[100*np.cos(q+np.pi/2)], [100*np.sin(q+np.pi/2)]])\n",
    "#Construir la matriz de Tranformacion Homogenea TH\n",
    "Rt = np.concatenate((R, t), axis=1)\n",
    "Tb1 = np.concatenate((Rt, [[0,0,1]]))\n",
    "print(Tb1)"
   ]
  },
  {
   "cell_type": "code",
   "execution_count": 9,
   "id": "e4b33380-e3a4-4513-8a18-746a8256c5c7",
   "metadata": {},
   "outputs": [
    {
     "name": "stdout",
     "output_type": "stream",
     "text": [
      "[[  1.  -0. 100.]\n",
      " [  0.   1.   0.]\n",
      " [  0.   0.   1.]]\n"
     ]
    }
   ],
   "source": [
    "#consruir la Matris de TRanfprmacion desde J1 a J2, T12\n",
    "#construr la matriz de T desde la base J1, Tb1\n",
    "q= 0*np.pi/180\n",
    "#Matriz Estabdar de rotacion 30°\n",
    "R = np.array([[np.cos(q), -np.sin(q)],\n",
    "             [np.sin(q), np.cos(q)]])\n",
    "#Vector de traslacion\n",
    "t = np.array([[100], [0*np.sin(q+np.pi/2)]])\n",
    "#Construir la matriz de Tranformacion Homogenea TH\n",
    "Rt = np.concatenate((R, t), axis=1)\n",
    "T12 = np.concatenate((Rt, [[0,0,1]]))\n",
    "print(T12)"
   ]
  },
  {
   "cell_type": "code",
   "execution_count": 10,
   "id": "8850ce4a-11f5-4523-9e2b-2b0d9ad1d593",
   "metadata": {},
   "outputs": [
    {
     "name": "stdout",
     "output_type": "stream",
     "text": [
      "[[  0.70710678   0.70710678  35.35533906]\n",
      " [ -0.70710678   0.70710678 -35.35533906]\n",
      " [  0.           0.           1.        ]]\n"
     ]
    }
   ],
   "source": [
    "#Construr la matriz de trandormacio desde J2, hasta EE, T2E\n",
    "q= -45*np.pi/180\n",
    "#Matriz Estabdar de rotacion 30°\n",
    "R = np.array([[np.cos(q), -np.sin(q)],\n",
    "             [np.sin(q), np.cos(q)]])\n",
    "#Vector de traslacion\n",
    "t = np.array([[50*np.cos(q)], [50*np.sin(q)]])\n",
    "#Construir la matriz de Tranformacion Homogenea TH\n",
    "Rt = np.concatenate((R, t), axis=1)\n",
    "T2ee = np.concatenate((Rt, [[0,0,1]]))\n",
    "print(T2ee)\n"
   ]
  },
  {
   "cell_type": "code",
   "execution_count": 11,
   "id": "5388e268-30ed-4ca3-bc2c-6de128666362",
   "metadata": {},
   "outputs": [
    {
     "name": "stdout",
     "output_type": "stream",
     "text": [
      "[[  0.8660254   -0.5         36.60254038]\n",
      " [  0.5          0.8660254  136.60254038]\n",
      " [  0.           0.           1.        ]]\n",
      "[[  0.96592583   0.25881905  84.89883169]\n",
      " [ -0.25881905   0.96592583 123.66158812]\n",
      " [  0.           0.           1.        ]]\n"
     ]
    }
   ],
   "source": [
    "#Con los valres caclulados obnenidos caculamo Tbee = Tb1 * T12 * T2ee\n",
    "Tb2 = Tb1.dot(T12) #Ews el produto matricla del Tb1 y Tb2\n",
    "print (Tb2)\n",
    "Tbee = Tb2.dot(T2ee) #El producto matricla del Tb2 y Tbee\n",
    "print (Tbee)"
   ]
  },
  {
   "cell_type": "code",
   "execution_count": 16,
   "id": "23df408c-fc04-4c4e-8eff-6d2af5547bc2",
   "metadata": {},
   "outputs": [
    {
     "name": "stdout",
     "output_type": "stream",
     "text": [
      "[104.21734822 118.48520722   1.        ]\n"
     ]
    }
   ],
   "source": [
    "#Calular la poscion respecto a la base\n",
    "pObjeto_ee = [20, 0, 1] #La pocision en coordenadas Homogeneas\n",
    "pObjeto_b = Tbee.dot(pObjeto_ee)\n",
    "print (pObjeto_b)"
   ]
  },
  {
   "cell_type": "code",
   "execution_count": 17,
   "id": "10985659-9989-47d3-ad8c-72765367953d",
   "metadata": {},
   "outputs": [
    {
     "data": {
      "image/png": "[encoded data removed]",
      "text/plain": [
       "<Figure size 640x480 with 1 Axes>"
      ]
     },
     "metadata": {},
     "output_type": "display_data"
    }
   ],
   "source": [
    "# Para graficar tomamos las coordenadas de los puntos de interés, respecto de la base\n",
    "x_J1 = Tb1[0,2]\n",
    "y_J1 = Tb1[1,2]\n",
    "x_J2 = Tb2[0,2]\n",
    "y_J2 = Tb2[1,2]\n",
    "x_ee = Tbee[0,2]\n",
    "y_ee = Tbee[1,2]\n",
    "x_objeto = pObjeto_b[0]\n",
    "y_objeto = pObjeto_b[1]\n",
    " \n",
    "# ya podemos graficar\n",
    "fig, axes = plt.subplots()\n",
    "# primero los puntosj\n",
    "plt.plot(0,0, 'o')\n",
    "plt.plot(x_J1,y_J1, 'o')\n",
    "plt.plot(x_J2,y_J2, 'o')\n",
    "plt.plot(x_ee,y_ee, 'x')\n",
    "plt.plot(x_objeto, y_objeto, 'bo')\n",
    "# grafiquemos luego las lineas\n",
    "plt.plot([0,x_J1,x_J2,x_ee],[0,y_J1,y_J2,y_ee])\n",
    "# ajustamos los ejes\n",
    "axes.set_xlim(-140,140)\n",
    "axes.set_ylim(0,140)\n",
    "plt.show()"
   ]
  },
  {
   "cell_type": "code",
   "execution_count": null,
   "id": "b984d18f-8eaf-44b9-ba62-8480d1fd6456",
   "metadata": {},
   "outputs": [],
   "source": []
  }
 ],
 "metadata": {
  "kernelspec": {
   "display_name": "Python [conda env:base] *",
   "language": "python",
   "name": "conda-base-py"
  },
  "language_info": {
   "codemirror_mode": {
    "name": "ipython",
    "version": 3
   },
   "file_extension": ".py",
   "mimetype": "text/x-python",
   "name": "python",
   "nbconvert_exporter": "python",
   "pygments_lexer": "ipython3",
   "version": "3.13.5"
  }
 },
 "nbformat": 4,
 "nbformat_minor": 5
}
